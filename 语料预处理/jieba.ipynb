{
 "cells": [
  {
   "cell_type": "code",
   "execution_count": 2,
   "metadata": {},
   "outputs": [],
   "source": [
    "import jieba.analyse"
   ]
  },
  {
   "cell_type": "code",
   "execution_count": 21,
   "metadata": {},
   "outputs": [
    {
     "data": {
      "text/plain": [
       "[('挺好用', 1.9924612504833332),\n",
       " ('外观', 1.3008088482566666),\n",
       " ('手机', 1.0286369713533332),\n",
       " ('有点', 0.93306864285),\n",
       " ('就是', 0.5996965179566667),\n",
       " ('这个', 0.594554184085)]"
      ]
     },
     "execution_count": 21,
     "metadata": {},
     "output_type": "execute_result"
    }
   ],
   "source": [
    "jieba.analyse.extract_tags('这个手机挺好用的，就是外观有点丑', topK=20, withWeight=True, allowPOS=())"
   ]
  },
  {
   "cell_type": "code",
   "execution_count": 13,
   "metadata": {},
   "outputs": [
    {
     "data": {
      "text/plain": [
       "[]"
      ]
     },
     "execution_count": 13,
     "metadata": {},
     "output_type": "execute_result"
    }
   ],
   "source": [
    "jieba.analyse.textrank('熊熊爱和熊熊玩耍', topK=20, withWeight=True, allowPOS=())"
   ]
  },
  {
   "cell_type": "code",
   "execution_count": 12,
   "metadata": {},
   "outputs": [],
   "source": [
    "for x, w in jieba.analyse.textrank('熊熊爱和熊熊玩耍', withWeight=True):\n",
    "    print('%s %s' % (x, w))"
   ]
  },
  {
   "cell_type": "code",
   "execution_count": 15,
   "metadata": {},
   "outputs": [
    {
     "name": "stdout",
     "output_type": "stream",
     "text": [
      "回复, @, 枝子, 的, 餐桌, :, 是, 的, ！, /, /, @, 枝子, 的, 餐桌, :, 是, 在, 咱, 武汉, 吃, 的, 吗, ？, /, /, @, peng, 树挺, :, [, 哈哈, ], [, 哈, .\n"
     ]
    }
   ],
   "source": [
    "seg_list = jieba.cut(\"回复@枝子的餐桌:是的！//@枝子的餐桌:是在咱武汉吃的吗？//@peng树挺:[哈哈][哈.\")  # 默认是精确模式\n",
    "print(\", \".join(seg_list))"
   ]
  },
  {
   "cell_type": "code",
   "execution_count": null,
   "metadata": {},
   "outputs": [],
   "source": []
  }
 ],
 "metadata": {
  "kernelspec": {
   "display_name": "Python 3",
   "language": "python",
   "name": "python3"
  },
  "language_info": {
   "codemirror_mode": {
    "name": "ipython",
    "version": 3
   },
   "file_extension": ".py",
   "mimetype": "text/x-python",
   "name": "python",
   "nbconvert_exporter": "python",
   "pygments_lexer": "ipython3",
   "version": "3.7.2"
  }
 },
 "nbformat": 4,
 "nbformat_minor": 4
}
