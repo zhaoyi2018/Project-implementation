{
 "cells": [
  {
   "cell_type": "code",
   "execution_count": 1,
   "metadata": {},
   "outputs": [],
   "source": [
    "import numpy as np\n",
    "import pandas as pd\n",
    "import re"
   ]
  },
  {
   "cell_type": "code",
   "execution_count": 25,
   "metadata": {},
   "outputs": [
    {
     "data": {
      "text/plain": [
       "59993            ﻿哈哈 哈哈哈哈，太罪恶了啊！以后叫外卖回家捞吧！不过...某人今天和你一样[泪]！\n",
       "59994     今年赶上沙尘暴没？我离开的那天，不能呼吸，我能拍照，不敢说话，黑城在风沙中被淹没[衰] ? ...\n",
       "59995     这是带头要让人民币升值啊！ 元，元，元 和 元 ！ 关于定价 $. 的应用，中国区定价 ? ...\n",
       "59996            [蜡烛] [蜡烛][蜡烛][蜡烛]据最新线报，保安张师傅昨天下午去世了[泪][蜡烛]\n",
       "59997     邻居妈妈有两个孩子，男宝宝好像是四岁了，经常喜欢在他妈妈开门的时候学着样子来敲我家的门，好几...\n",
       "                                ...                        \n",
       "119983                一公里不到，县医院那个天桥下右拐米就到了！我靠。这个太霸道了！离有好远？ \n",
       "119984                  今天真冷啊，难道又要穿棉袄了[晕]？今年的春天真的是百变莫测啊[抓狂]\n",
       "119985                                     最近几天就没停止过！！！[伤心]\n",
       "119986                                                  很惨!\n",
       "119987                     呢??？！[抓狂] ?搞乜鬼？？！！想知？入去睇睇： ://./\n",
       "Name: review, Length: 59995, dtype: object"
      ]
     },
     "execution_count": 25,
     "metadata": {},
     "output_type": "execute_result"
    }
   ],
   "source": [
    "data=pd.read_csv('new_weibo_data.csv',encoding='utf-8')\n",
    "pos=data[data['label']==1]\n",
    "neg=data[data['label']==0]\n",
    "neg['review']"
   ]
  },
  {
   "cell_type": "code",
   "execution_count": 26,
   "metadata": {},
   "outputs": [
    {
     "name": "stdout",
     "output_type": "stream",
     "text": [
      "转换数据10000条\n",
      "转换数据20000条\n",
      "转换数据30000条\n",
      "转换数据40000条\n",
      "转换数据50000条\n",
      "转换数据60000条\n",
      "转换数据70000条\n",
      "转换数据80000条\n",
      "转换数据90000条\n",
      "转换数据100000条\n",
      "转换数据110000条\n"
     ]
    }
   ],
   "source": [
    "import re\n",
    "count=0\n",
    "with open('test.txt','a+',encoding='utf-8') as f:\n",
    "    for line in data.values:\n",
    "        label=line[0]\n",
    "        datas= re.sub(\"[A-Za-z0-9\\!\\%\\[\\]\\,\\。\\.\\】\\【\\~]\\//\", \"\", str(line[1]))\n",
    "        count+=1\n",
    "        f.write((str(line[0])+'\\t'+datas+'\\n'))\n",
    "        if count%10000==0:\n",
    "            print('转换数据'+str(count)+'条')"
   ]
  },
  {
   "cell_type": "code",
   "execution_count": 32,
   "metadata": {},
   "outputs": [],
   "source": [
    "def classifier(sen):\n",
    "    from snownlp import SnowNLP\n",
    "    score = SnowNLP(sen).sentiments\n",
    "    if score>0.4:\n",
    "        result=str(1)\n",
    "    else:\n",
    "        result=str(0)\n",
    "    return result\n",
    "#0.5   0.5878087808780879\n",
    "#0.4   0.5916675000833417\n",
    "#0.35  0.5898756542320899"
   ]
  },
  {
   "cell_type": "code",
   "execution_count": 33,
   "metadata": {},
   "outputs": [
    {
     "name": "stdout",
     "output_type": "stream",
     "text": [
      "0.5898756542320899\n"
     ]
    }
   ],
   "source": [
    "accnum=0\n",
    "datanum=0\n",
    "with open('test.txt','r',encoding='utf-8') as fr:\n",
    "    for line in fr.readlines():\n",
    "        datanum+=1\n",
    "        base=line.split('\\t')\n",
    "        if base[0]== classifier(base[1]):\n",
    "            accnum+=1\n",
    "print(accnum/datanum)        "
   ]
  },
  {
   "cell_type": "code",
   "execution_count": null,
   "metadata": {},
   "outputs": [],
   "source": []
  }
 ],
 "metadata": {
  "kernelspec": {
   "display_name": "Python 3",
   "language": "python",
   "name": "python3"
  },
  "language_info": {
   "codemirror_mode": {
    "name": "ipython",
    "version": 3
   },
   "file_extension": ".py",
   "mimetype": "text/x-python",
   "name": "python",
   "nbconvert_exporter": "python",
   "pygments_lexer": "ipython3",
   "version": "3.7.2"
  }
 },
 "nbformat": 4,
 "nbformat_minor": 4
}
