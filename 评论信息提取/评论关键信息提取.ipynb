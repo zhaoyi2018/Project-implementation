{
 "cells": [
  {
   "cell_type": "code",
   "execution_count": 1,
   "metadata": {},
   "outputs": [],
   "source": [
    "import numpy as np\n",
    "import pandas as pd"
   ]
  },
  {
   "cell_type": "code",
   "execution_count": 2,
   "metadata": {},
   "outputs": [],
   "source": [
    "from gensim.models.word2vec import Word2Vec\n",
    "model = Word2Vec.load('wiki_w2v.model')"
   ]
  },
  {
   "cell_type": "code",
   "execution_count": 3,
   "metadata": {},
   "outputs": [],
   "source": [
    "def sentence_vec(sentence,model):  #待判别语句，词向量模型\n",
    "    import jieba\n",
    "    senvec = np.zeros((1,300))\n",
    "    newsen = jieba.cut(sentence)\n",
    "    length = 0\n",
    "    for i in newsen:\n",
    "        try:\n",
    "            senvec += model[i].reshape((1,300))\n",
    "            length += 1\n",
    "        except KeyError:\n",
    "            continue \n",
    "    return senvec/length  #平均词向量"
   ]
  },
  {
   "cell_type": "code",
   "execution_count": 4,
   "metadata": {},
   "outputs": [],
   "source": [
    "def sentence_decision(sentence,model=model,clf='erji lbfgs_4000_(100, 50)network.pickle'):  #待判别语句，分类模型，词向量模型\n",
    "    import pickle\n",
    "    import warnings\n",
    "    warnings.filterwarnings('ignore')\n",
    "    re = sentence_vec(sentence,model)\n",
    "    if np.isnan(re)[0][0]:  #注意nan的处理,识别不出按负类处理\n",
    "        return np.array([0.])   \n",
    "    with open(clf, 'rb') as fr:\n",
    "        if 'svm' in clf:  #如果要用svc的话，需要对输入进行降维\n",
    "            with open('erji_pca_20.pickle','rb') as pr: \n",
    "                pcapatten = pickle.load(pr)\n",
    "                re = pcapatten.transform(re)\n",
    "        cl = pickle.load(fr)      \n",
    "    return cl.predict(re)   #语句类别"
   ]
  },
  {
   "cell_type": "code",
   "execution_count": 5,
   "metadata": {},
   "outputs": [],
   "source": [
    "dic_li=[('外观',0),('质感',0),('灵敏度',0),('舒适度',0),('续航',0),('音质',0),('特色',0),('正版',0),('保价',0),('包装',0),('客服',0),('售后',0)]\n",
    "dic_p=dict(dic_li)\n",
    "dic_n=dict(dic_li)\n",
    "demo=['外观','质感','灵敏度','舒适度','续航','音质','特色','正版','保价','包装','客服','售后']"
   ]
  },
  {
   "cell_type": "code",
   "execution_count": 6,
   "metadata": {},
   "outputs": [],
   "source": [
    "def demo_sim(sen,dic_p,dic_n,demo=demo,model=model):\n",
    "    import jieba\n",
    "    import re\n",
    "    dic_pos={}\n",
    "    dic_neg={}\n",
    "    #若想批量处理的话，sen传一个大句子，遍历\n",
    "    senlist=sen.split(\"\\n\")\n",
    "    for d in demo:\n",
    "        dic_pos[d]=dic_p[d]\n",
    "        dic_neg[d]=dic_n[d]\n",
    "        for s in senlist:  #s含有特定评价指标的短句子\n",
    "            words=list(jieba.cut(s,cut_all=True))\n",
    "            for w in words:\n",
    "                w= re.sub(\"[A-Za-z0-9\\!\\：\\？\\?\\!\\！\\.\\。\\，\\、\\&\\n]\", \"\", w)\n",
    "                if w!=\"\":\n",
    "                    try:\n",
    "                        if model.similarity(w,d)>= 0.7:#指标的匹配\n",
    "                            if int(sentence_decision(s)[0])==1:  #包含指标的短句情感判断\n",
    "                                dic_pos[d]+=1\n",
    "                                print('pos '+w)\n",
    "                            else:\n",
    "                                dic_neg[d]+=1\n",
    "                                print('neg '+w)\n",
    "                    except KeyError:\n",
    "                        print('no '+w)\n",
    "                        continue \n",
    "    return dic_pos,dic_neg"
   ]
  },
  {
   "cell_type": "code",
   "execution_count": 7,
   "metadata": {},
   "outputs": [
    {
     "name": "stderr",
     "output_type": "stream",
     "text": [
      "Building prefix dict from the default dictionary ...\n",
      "Loading model from cache C:\\Users\\lenovo\\AppData\\Local\\Temp\\jieba.cache\n",
      "Loading model cost 1.458 seconds.\n",
      "Prefix dict has been built successfully.\n",
      "f:\\python\\lib\\site-packages\\ipykernel_launcher.py:17: DeprecationWarning: Call to deprecated `similarity` (Method will be removed in 4.0.0, use self.wv.similarity() instead).\n"
     ]
    },
    {
     "ename": "FileNotFoundError",
     "evalue": "[Errno 2] No such file or directory: 'erji lbfgs_4000_(100, 50)network.pickle'",
     "output_type": "error",
     "traceback": [
      "\u001b[1;31m---------------------------------------------------------------------------\u001b[0m",
      "\u001b[1;31mFileNotFoundError\u001b[0m                         Traceback (most recent call last)",
      "\u001b[1;32m<ipython-input-7-5dcf9b314e14>\u001b[0m in \u001b[0;36m<module>\u001b[1;34m\u001b[0m\n\u001b[0;32m      1\u001b[0m a,b=demo_sim(\"\"\"这款耳机的做工非常的好，然后正版的音质也非常好，续航能力特别强，灵敏度非常高，弹窗都很方便，舒适度也非常好，我就喜欢坐地铁的时候，或者是听音乐的时候，自己放松的时候使用耳机，非常的不错，然后贴合性也非常好，挺舒适的，推荐大家购买\"\"\",\n\u001b[1;32m----> 2\u001b[1;33m \u001b[0mdic_p\u001b[0m\u001b[1;33m,\u001b[0m\u001b[0mdic_n\u001b[0m\u001b[1;33m\u001b[0m\u001b[1;33m\u001b[0m\u001b[0m\n\u001b[0m\u001b[0;32m      3\u001b[0m )\n",
      "\u001b[1;32m<ipython-input-6-26072eaa227f>\u001b[0m in \u001b[0;36mdemo_sim\u001b[1;34m(sen, dic_p, dic_n, demo, model)\u001b[0m\n\u001b[0;32m     16\u001b[0m                     \u001b[1;32mtry\u001b[0m\u001b[1;33m:\u001b[0m\u001b[1;33m\u001b[0m\u001b[1;33m\u001b[0m\u001b[0m\n\u001b[0;32m     17\u001b[0m                         \u001b[1;32mif\u001b[0m \u001b[0mmodel\u001b[0m\u001b[1;33m.\u001b[0m\u001b[0msimilarity\u001b[0m\u001b[1;33m(\u001b[0m\u001b[0mw\u001b[0m\u001b[1;33m,\u001b[0m\u001b[0md\u001b[0m\u001b[1;33m)\u001b[0m\u001b[1;33m>=\u001b[0m \u001b[1;36m0.7\u001b[0m\u001b[1;33m:\u001b[0m\u001b[1;31m#指标的匹配\u001b[0m\u001b[1;33m\u001b[0m\u001b[1;33m\u001b[0m\u001b[0m\n\u001b[1;32m---> 18\u001b[1;33m                             \u001b[1;32mif\u001b[0m \u001b[0mint\u001b[0m\u001b[1;33m(\u001b[0m\u001b[0msentence_decision\u001b[0m\u001b[1;33m(\u001b[0m\u001b[0ms\u001b[0m\u001b[1;33m)\u001b[0m\u001b[1;33m[\u001b[0m\u001b[1;36m0\u001b[0m\u001b[1;33m]\u001b[0m\u001b[1;33m)\u001b[0m\u001b[1;33m==\u001b[0m\u001b[1;36m1\u001b[0m\u001b[1;33m:\u001b[0m  \u001b[1;31m#包含指标的短句情感判断\u001b[0m\u001b[1;33m\u001b[0m\u001b[1;33m\u001b[0m\u001b[0m\n\u001b[0m\u001b[0;32m     19\u001b[0m                                 \u001b[0mdic_pos\u001b[0m\u001b[1;33m[\u001b[0m\u001b[0md\u001b[0m\u001b[1;33m]\u001b[0m\u001b[1;33m+=\u001b[0m\u001b[1;36m1\u001b[0m\u001b[1;33m\u001b[0m\u001b[1;33m\u001b[0m\u001b[0m\n\u001b[0;32m     20\u001b[0m                                 \u001b[0mprint\u001b[0m\u001b[1;33m(\u001b[0m\u001b[1;34m'pos '\u001b[0m\u001b[1;33m+\u001b[0m\u001b[0mw\u001b[0m\u001b[1;33m)\u001b[0m\u001b[1;33m\u001b[0m\u001b[1;33m\u001b[0m\u001b[0m\n",
      "\u001b[1;32m<ipython-input-4-a66355fd5c0f>\u001b[0m in \u001b[0;36msentence_decision\u001b[1;34m(sentence, model, clf)\u001b[0m\n\u001b[0;32m      6\u001b[0m     \u001b[1;32mif\u001b[0m \u001b[0mnp\u001b[0m\u001b[1;33m.\u001b[0m\u001b[0misnan\u001b[0m\u001b[1;33m(\u001b[0m\u001b[0mre\u001b[0m\u001b[1;33m)\u001b[0m\u001b[1;33m[\u001b[0m\u001b[1;36m0\u001b[0m\u001b[1;33m]\u001b[0m\u001b[1;33m[\u001b[0m\u001b[1;36m0\u001b[0m\u001b[1;33m]\u001b[0m\u001b[1;33m:\u001b[0m  \u001b[1;31m#注意nan的处理,识别不出按负类处理\u001b[0m\u001b[1;33m\u001b[0m\u001b[1;33m\u001b[0m\u001b[0m\n\u001b[0;32m      7\u001b[0m         \u001b[1;32mreturn\u001b[0m \u001b[0mnp\u001b[0m\u001b[1;33m.\u001b[0m\u001b[0marray\u001b[0m\u001b[1;33m(\u001b[0m\u001b[1;33m[\u001b[0m\u001b[1;36m0.\u001b[0m\u001b[1;33m]\u001b[0m\u001b[1;33m)\u001b[0m\u001b[1;33m\u001b[0m\u001b[1;33m\u001b[0m\u001b[0m\n\u001b[1;32m----> 8\u001b[1;33m     \u001b[1;32mwith\u001b[0m \u001b[0mopen\u001b[0m\u001b[1;33m(\u001b[0m\u001b[0mclf\u001b[0m\u001b[1;33m,\u001b[0m \u001b[1;34m'rb'\u001b[0m\u001b[1;33m)\u001b[0m \u001b[1;32mas\u001b[0m \u001b[0mfr\u001b[0m\u001b[1;33m:\u001b[0m\u001b[1;33m\u001b[0m\u001b[1;33m\u001b[0m\u001b[0m\n\u001b[0m\u001b[0;32m      9\u001b[0m         \u001b[1;32mif\u001b[0m \u001b[1;34m'svm'\u001b[0m \u001b[1;32min\u001b[0m \u001b[0mclf\u001b[0m\u001b[1;33m:\u001b[0m  \u001b[1;31m#如果要用svc的话，需要对输入进行降维\u001b[0m\u001b[1;33m\u001b[0m\u001b[1;33m\u001b[0m\u001b[0m\n\u001b[0;32m     10\u001b[0m             \u001b[1;32mwith\u001b[0m \u001b[0mopen\u001b[0m\u001b[1;33m(\u001b[0m\u001b[1;34m'erji_pca_20.pickle'\u001b[0m\u001b[1;33m,\u001b[0m\u001b[1;34m'rb'\u001b[0m\u001b[1;33m)\u001b[0m \u001b[1;32mas\u001b[0m \u001b[0mpr\u001b[0m\u001b[1;33m:\u001b[0m\u001b[1;33m\u001b[0m\u001b[1;33m\u001b[0m\u001b[0m\n",
      "\u001b[1;31mFileNotFoundError\u001b[0m: [Errno 2] No such file or directory: 'erji lbfgs_4000_(100, 50)network.pickle'"
     ]
    }
   ],
   "source": [
    "a,b=demo_sim(\"\"\"这款耳机的做工非常的好，然后正版的音质也非常好，续航能力特别强，灵敏度非常高，弹窗都很方便，舒适度也非常好，我就喜欢坐地铁的时候，或者是听音乐的时候，自己放松的时候使用耳机，非常的不错，然后贴合性也非常好，挺舒适的，推荐大家购买\"\"\",\n",
    "dic_p,dic_n\n",
    ")"
   ]
  },
  {
   "cell_type": "code",
   "execution_count": null,
   "metadata": {},
   "outputs": [],
   "source": [
    "a"
   ]
  },
  {
   "cell_type": "code",
   "execution_count": null,
   "metadata": {},
   "outputs": [],
   "source": [
    "b"
   ]
  },
  {
   "cell_type": "code",
   "execution_count": null,
   "metadata": {},
   "outputs": [],
   "source": [
    "c,d=demo_sim(\"\"\"做工质感：一般般\n",
    "音质音效：不错\n",
    "舒适度：耳塞戴久了耳朵不舒服\n",
    "续航能力：说好了可以听歌持续8小时，我听了三个小时都没有就没电了，**\"\"\",\n",
    "a,b\n",
    ")"
   ]
  },
  {
   "cell_type": "code",
   "execution_count": null,
   "metadata": {},
   "outputs": [],
   "source": [
    "c,d"
   ]
  },
  {
   "cell_type": "code",
   "execution_count": null,
   "metadata": {},
   "outputs": [],
   "source": []
  },
  {
   "cell_type": "code",
   "execution_count": null,
   "metadata": {},
   "outputs": [],
   "source": []
  },
  {
   "cell_type": "code",
   "execution_count": null,
   "metadata": {},
   "outputs": [],
   "source": []
  },
  {
   "cell_type": "code",
   "execution_count": null,
   "metadata": {},
   "outputs": [],
   "source": []
  },
  {
   "cell_type": "code",
   "execution_count": null,
   "metadata": {},
   "outputs": [],
   "source": []
  }
 ],
 "metadata": {
  "kernelspec": {
   "display_name": "Python 3",
   "language": "python",
   "name": "python3"
  },
  "language_info": {
   "codemirror_mode": {
    "name": "ipython",
    "version": 3
   },
   "file_extension": ".py",
   "mimetype": "text/x-python",
   "name": "python",
   "nbconvert_exporter": "python",
   "pygments_lexer": "ipython3",
   "version": "3.7.2"
  }
 },
 "nbformat": 4,
 "nbformat_minor": 4
}
