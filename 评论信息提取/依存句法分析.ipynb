{
 "cells": [
  {
   "cell_type": "code",
   "execution_count": 1,
   "metadata": {
    "collapsed": true
   },
   "outputs": [
    {
     "name": "stdout",
     "output_type": "stream",
     "text": [
      "使用本地 f:\\python\\lib\\site-packages\\pyhanlp\\static\\data-for-1.7.8.zip, 忽略 https://file.hankcs.com/hanlp/data-for-1.7.5.zip\n",
      "解压 data.zip...\n",
      "1\t电池\t电池\tN\tNN\t_\t3\tnsubj\t_\t_\n",
      "2\t非常\t非常\tA\tAD\t_\t3\tadvmod\t_\t_\n",
      "3\t棒\t棒\tV\tVA\t_\t0\tROOT\t_\t_\n",
      "4\t，\t，\tP\tPU\t_\t3\tpunct\t_\t_\n",
      "5\t机身\t机身\tN\tNN\t_\t7\tnsubj\t_\t_\n",
      "6\t不\t不\tA\tAD\t_\t7\tneg\t_\t_\n",
      "7\t长\t长\tV\tVA\t_\t3\tconj\t_\t_\n",
      "8\t，\t，\tP\tPU\t_\t7\tpunct\t_\t_\n",
      "9\t长\t长\tV\tVA\t_\t11\ttop\t_\t_\n",
      "10\t的\t的\tD\tDEC\t_\t9\tcpm\t_\t_\n",
      "11\t是\t是\tV\tVC\t_\t7\tconj\t_\t_\n",
      "12\t待机\t待机\tN\tNN\t_\t11\tattr\t_\t_\n",
      "13\t，\t，\tP\tPU\t_\t3\tpunct\t_\t_\n",
      "14\t但是\t但是\tA\tAD\t_\t18\tadvmod\t_\t_\n",
      "15\t屏幕\t屏幕\tN\tNN\t_\t16\tnn\t_\t_\n",
      "16\t分辨率\t分辨率\tN\tNN\t_\t18\tnsubj\t_\t_\n",
      "17\t不\t不\tA\tAD\t_\t18\tneg\t_\t_\n",
      "18\t高\t高\tV\tVA\t_\t3\tconj\t_\t_\n",
      "19\t。\t。\tP\tPU\t_\t3\tpunct\t_\t_\n",
      "\n"
     ]
    }
   ],
   "source": [
    "from pyhanlp import *\n",
    "CoNLLSentence = JClass('com.hankcs.hanlp.corpus.dependency.CoNll.CoNLLSentence')\n",
    "CoNLLWord = JClass('com.hankcs.hanlp.corpus.dependency.CoNll.CoNLLWord')\n",
    "IDependencyParser = JClass('com.hankcs.hanlp.dependency.IDependencyParser')\n",
    "KBeamArcEagerDependencyParser = JClass('com.hankcs.hanlp.dependency.perceptron.parser.KBeamArcEagerDependencyParser')"
   ]
  },
  {
   "cell_type": "code",
   "execution_count": 4,
   "metadata": {
    "collapsed": true
   },
   "outputs": [
    {
     "name": "stdout",
     "output_type": "stream",
     "text": [
      "1\t我\t我\tP\tPN\t_\t2\tnsubj\t_\t_\n",
      "2\t认为 Studio 3 是不适\t认为 Studio 3 是不适\tV\tVV\t_\t0\tROOT\t_\t_\n",
      "3\t合\t合\tV\tVV\t_\t2\tccomp\t_\t_\n",
      "4\t我\t我\tP\tPN\t_\t3\tdobj\t_\t_\n",
      "5\t的\t的\tD\tDEG\t_\t4\tassm\t_\t_\n",
      "6\t，\t，\tP\tPU\t_\t2\tpunct\t_\t_\n",
      "7\t没\t没\tV\tVE\t_\t2\tconj\t_\t_\n",
      "8\t了\t了\tA\tAS\t_\t2\tasp\t_\t_\n",
      "9\t以前\t以前\tN\tNT\t_\t11\tassmod\t_\t_\n",
      "10\t的\t的\tD\tDEG\t_\t9\tassm\t_\t_\n",
      "11\t&ldquo\t&ldquo\tN\tNN\t_\t17\tnn\t_\t_\n",
      "12\t;\t;\tP\tPU\t_\t15\tpunct\t_\t_\n",
      "13\t低音\t低音\tN\tNN\t_\t15\tconj\t_\t_\n",
      "14\t&\t&\tC\tCC\t_\t15\tcc\t_\t_\n",
      "15\trdquo\trdquo\tN\tNN\t_\t17\tnn\t_\t_\n",
      "16\t;\t;\tP\tPU\t_\t15\tpunct\t_\t_\n",
      "17\t特色\t特色\tN\tNN\t_\t2\tdobj\t_\t_\n",
      "18\t对于\t对于\tP\tP\t_\t32\tprep\t_\t_\n",
      "19\t我\t我\tP\tPN\t_\t21\tnsubj\t_\t_\n",
      "20\t这种\t这种\tA\tAD\t_\t21\tadvmod\t_\t_\n",
      "21\t喜欢\t喜欢\tV\tVV\t_\t18\tpccomp\t_\t_\n",
      "22\t听\t听\tV\tVV\t_\t24\ttop\t_\t_\n",
      "23\thippop\thippop\tN\tNN\t_\t22\tdobj\t_\t_\n",
      "24\t是\t是\tV\tVC\t_\t21\tccomp\t_\t_\n",
      "25\t损失\t损失\tN\tNN\t_\t24\tattr\t_\t_\n",
      "26\t，\t，\tP\tPU\t_\t21\tpunct\t_\t_\n",
      "27\t降噪\t降噪\tV\tVV\t_\t21\tdep\t_\t_\n",
      "28\t也\t也\tA\tAD\t_\t32\tadvmod\t_\t_\n",
      "29\t不\t不\tA\tAD\t_\t30\tneg\t_\t_\n",
      "30\t出色\t出色\tV\tVA\t_\t32\tdvpmod\t_\t_\n",
      "31\t跟\t跟\tC\tCC\t_\t30\tcc\t_\t_\n",
      "32\t入耳\t入耳\tV\tVV\t_\t2\tconj\t_\t_\n",
      "33\t式\t式\tN\tNN\t_\t34\tnn\t_\t_\n",
      "34\t差距\t差距\tN\tNN\t_\t35\tnsubj\t_\t_\n",
      "35\t不大\t不大\tV\tVA\t_\t32\tccomp\t_\t_\n",
      "36\t！！\t！！\tP\tPU\t_\t35\tpunct\t_\t_\n",
      "37\t外观\t外观\tN\tNN\t_\t41\tnsubj\t_\t_\n",
      "38\t几\t几\tC\tCD\t_\t39\tnummod\t_\t_\n",
      "39\t年\t年\tM\tM\t_\t41\tdep\t_\t_\n",
      "40\t不\t不\tA\tAD\t_\t41\tneg\t_\t_\n",
      "41\t更新\t更新\tV\tVV\t_\t35\tconj\t_\t_\n",
      "42\t审美\t审美\tV\tVV\t_\t41\trcomp\t_\t_\n",
      "43\t疲劳\t疲劳\tV\tVA\t_\t42\tcomod\t_\t_\n",
      "44\t了\t了\tS\tSP\t_\t41\tdep\t_\t_\n",
      "45\t，\t，\tP\tPU\t_\t32\tpunct\t_\t_\n",
      "46\t装配\t装配\tV\tVV\t_\t32\tdep\t_\t_\n",
      "47\t有\t有\tV\tVE\t_\t0\tROOT\t_\t_\n",
      "48\t问题\t问题\tN\tNN\t_\t47\tdobj\t_\t_\n",
      "49\t（\t（\tP\tPU\t_\t53\tpunct\t_\t_\n",
      "50\t耳机\t耳机\tN\tNN\t_\t51\tnn\t_\t_\n",
      "51\t海绵\t海绵\tN\tNN\t_\t53\tnsubj\t_\t_\n",
      "52\t都\t都\tA\tAD\t_\t53\tadvmod\t_\t_\n",
      "53\t压扁\t压扁\tV\tVV\t_\t48\tprnmod\t_\t_\n",
      "54\t了\t了\tS\tSP\t_\t53\tdep\t_\t_\n",
      "55\t）\t）\tP\tPU\t_\t53\tpunct\t_\t_\n",
      "56\t，\t，\tP\tPU\t_\t53\tpunct\t_\t_\n",
      "57\t还有\t还有\tC\tCC\t_\t53\tcc\t_\t_\n",
      "58\t与\t与\tP\tP\t_\t61\tprep\t_\t_\n",
      "59\t苹果\t苹果\tN\tNR\t_\t60\tnn\t_\t_\n",
      "60\t手机\t手机\tN\tNN\t_\t58\tpobj\t_\t_\n",
      "61\t连接\t连接\tV\tVV\t_\t53\tconj\t_\t_\n",
      "62\t界面\t界面\tN\tNN\t_\t63\tnn\t_\t_\n",
      "63\t耳机\t耳机\tN\tNN\t_\t65\tnn\t_\t_\n",
      "64\t不同\t不同\tJ\tJJ\t_\t65\tamod\t_\t_\n",
      "65\t色\t色\tN\tNN\t_\t61\tdobj\t_\t_\n",
      "66\t（\t（\tP\tPU\t_\t70\tpunct\t_\t_\n",
      "67\t不是\t不是\tC\tCC\t_\t70\tcc\t_\t_\n",
      "68\t苹果\t苹果\tN\tNN\t_\t70\tassmod\t_\t_\n",
      "69\t的\t的\tD\tDEG\t_\t68\tassm\t_\t_\n",
      "70\t风格\t风格\tN\tNN\t_\t65\tprnmod\t_\t_\n",
      "71\t啊\t啊\tS\tSP\t_\t70\tpunct\t_\t_\n",
      "72\t）\t）\tP\tPU\t_\t70\tpunct\t_\t_\n",
      "73\t；\t；\tP\tPU\t_\t47\tpunct\t_\t_\n",
      "74\t京东\t京东\tN\tNR\t_\t75\tnn\t_\t_\n",
      "75\t快递\t快递\tN\tNN\t_\t79\tnsubj\t_\t_\n",
      "76\t还\t还\tA\tAD\t_\t79\tadvmod\t_\t_\n",
      "77\t把\t把\tB\tBA\t_\t79\tba\t_\t_\n",
      "78\t盒子\t盒子\tN\tNN\t_\t79\tnsubj\t_\t_\n",
      "79\t弄损\t弄损\tV\tVV\t_\t47\tconj\t_\t_\n",
      "80\t了\t了\tA\tAS\t_\t79\tasp\t_\t_\n",
      "81\t，\t，\tP\tPU\t_\t79\tpunct\t_\t_\n",
      "82\t处女座\t处女座\tN\tNN\t_\t83\tnn\t_\t_\n",
      "83\t受不了\t受不了\tS\tSP\t_\t79\tdep\t_\t_\n",
      "84\t~\t~\tP\tPU\t_\t79\tpunct\t_\t_\n",
      "85\t不\t不\tA\tAD\t_\t86\tneg\t_\t_\n",
      "86\t买\t买\tV\tVV\t_\t79\tconj\t_\t_\n",
      "87\tsony\tsony\tN\tNN\t_\t86\tdobj\t_\t_\n",
      "88\t、\t、\tP\tPU\t_\t79\tpunct\t_\t_\n",
      "89\tbose\tbose\tC\tCC\t_\t79\tcc\t_\t_\n",
      "90\t就是\t就是\tA\tAD\t_\t103\tadvmod\t_\t_\n",
      "91\t因为\t因为\tP\tP\t_\t103\tprep\t_\t_\n",
      "92\t喜欢\t喜欢\tV\tVV\t_\t91\tpccomp\t_\t_\n",
      "93\tApple\tApple\tN\tNR\t_\t97\tconj\t_\t_\n",
      "94\t、\t、\tP\tPU\t_\t97\tpunct\t_\t_\n",
      "95\tDr.dre\tDr.dre\tN\tNR\t_\t97\tconj\t_\t_\n",
      "96\t&\t&\tC\tCC\t_\t97\tcc\t_\t_\n",
      "97\thellip\thellip\tN\tNN\t_\t92\tdobj\t_\t_\n",
      "98\t;\t;\tP\tPU\t_\t103\tpunct\t_\t_\n",
      "99\t（\t（\tP\tPU\t_\t103\tpunct\t_\t_\n",
      "100\t居然\t居然\tA\tAD\t_\t103\tadvmod\t_\t_\n",
      "101\t还\t还\tA\tAD\t_\t103\tadvmod\t_\t_\n",
      "102\t不能\t不能\tA\tAD\t_\t103\tadvmod\t_\t_\n",
      "103\t退\t退\tV\tVV\t_\t79\tdep\t_\t_\n",
      "104\t）\t）\tP\tPU\t_\t103\tpunct\t_\t_\n",
      "\n"
     ]
    }
   ],
   "source": [
    "parser = KBeamArcEagerDependencyParser()"
   ]
  },
  {
   "cell_type": "code",
   "execution_count": 47,
   "metadata": {},
   "outputs": [],
   "source": [
    "tree = parser.parse(\"\"\"做工质感：二代的品控不好，但是我这个耳机完美，品控完美\n",
    "音效音质：没有杂音，音质很棒，使用感觉不错\n",
    "续航能力：续航不错，我可以听一天\n",
    "灵敏度：弹窗迅速，苹果不愧是你\n",
    "舒适度：舒服，我就喜欢这种半入耳式的\n",
    "其他特色：苹果手机配苹果耳机用起来就是舒服，完美搭配，舒服了，店铺的发货速度也很快，京东快递，安全放心\"\"\")\n",
    "# print(tree)"
   ]
  },
  {
   "cell_type": "code",
   "execution_count": 15,
   "metadata": {},
   "outputs": [],
   "source": [
    "def extactOpinion3(tree):\n",
    "    for word in tree.iterator():\n",
    "        if word.POSTAG == \"NN\":\n",
    "          \n",
    "          \t# 检测名词词语的依存弧是否是“属性关系”，\n",
    "            # 如果是，则寻找支配词的子节点中的主题词\n",
    "            # 以该主题词作为名词的意见。\n",
    "            if word.DEPREL == \"nsubj\":  # ①属性\n",
    "\n",
    "                if tree.findChildren(word.HEAD, \"neg\").isEmpty():\n",
    "                    print(\"%s = %s\" % (word.LEMMA, word.HEAD.LEMMA))\n",
    "                else:\n",
    "                    print(\"%s = 不%s\" % (word.LEMMA, word.HEAD.LEMMA))\n",
    "            elif word.DEPREL == \"attr\":\n",
    "                top = tree.findChildren(word.HEAD, \"top\")  # ②主题\n",
    "\n",
    "                if not top.isEmpty():\n",
    "                    print(\"%s = %s\" % (word.LEMMA, top.get(0).LEMMA))"
   ]
  },
  {
   "cell_type": "code",
   "execution_count": 31,
   "metadata": {},
   "outputs": [],
   "source": [
    "def extactOpinion4(tree):\n",
    "    otp=[]\n",
    "    for word in tree.iterator():\n",
    "        if word.POSTAG == \"NN\":\n",
    "          \n",
    "          \t# 检测名词词语的依存弧是否是“属性关系”，\n",
    "            # 如果是，则寻找支配词的子节点中的主题词\n",
    "            # 以该主题词作为名词的意见。\n",
    "            if word.DEPREL == \"nsubj\":  # ①属性\n",
    "\n",
    "                if tree.findChildren(word.HEAD, \"neg\").isEmpty():\n",
    "                    otp.append((word.LEMMA, word.HEAD.LEMMA))\n",
    "                else:\n",
    "                    otp.append((word.LEMMA, word.HEAD.LEMMA))\n",
    "            elif word.DEPREL == \"attr\":\n",
    "                top = tree.findChildren(word.HEAD, \"top\")  # ②主题\n",
    "\n",
    "                if not top.isEmpty():\n",
    "                    otp.append((word.LEMMA, top.get(0).LEMMA))\n",
    "    return otp"
   ]
  },
  {
   "cell_type": "code",
   "execution_count": 48,
   "metadata": {},
   "outputs": [],
   "source": [
    "\n",
    "otplist=extactOpinion4(tree)\n"
   ]
  },
  {
   "cell_type": "code",
   "execution_count": 49,
   "metadata": {},
   "outputs": [
    {
     "name": "stdout",
     "output_type": "stream",
     "text": [
      "品控:不好\n",
      "耳机:完美\n",
      "音质:棒\n",
      "续航:不错\n",
      "弹窗:迅速\n",
      "特色:用\n",
      "耳机:用\n",
      "速度:放心\n",
      "快递:放心\n"
     ]
    }
   ],
   "source": [
    "for i in otplist:\n",
    "    print(str(i[0])+':'+str(i[1]))"
   ]
  },
  {
   "cell_type": "code",
   "execution_count": null,
   "metadata": {},
   "outputs": [],
   "source": [
    "#对于好评，可采取这套方案"
   ]
  },
  {
   "cell_type": "code",
   "execution_count": null,
   "metadata": {},
   "outputs": [],
   "source": []
  },
  {
   "cell_type": "code",
   "execution_count": 43,
   "metadata": {},
   "outputs": [],
   "source": [
    "import jieba.analyse"
   ]
  },
  {
   "cell_type": "code",
   "execution_count": 46,
   "metadata": {},
   "outputs": [
    {
     "data": {
      "text/plain": [
       "[('品控', 0.42695598224642856),\n",
       " ('苹果', 0.40361824308428573),\n",
       " ('舒服', 0.40343446441874997),\n",
       " ('完美', 0.40180822535732147),\n",
       " ('音质', 0.362124197725),\n",
       " ('续航', 0.34523468383499994),\n",
       " ('耳机', 0.3353506480521428),\n",
       " ('不错', 0.22100835063214283),\n",
       " ('音效', 0.21948642391964285),\n",
       " ('弹窗', 0.21347799112321428),\n",
       " ('入耳式', 0.21347799112321428),\n",
       " ('舒适度', 0.20242371954464286),\n",
       " ('很棒', 0.19871587374464286),\n",
       " ('杂音', 0.18633824552142858),\n",
       " ('发货', 0.18191259973749999),\n",
       " ('快递', 0.17909779716250002),\n",
       " ('京东', 0.17511309088839286),\n",
       " ('质感', 0.1656375864051786),\n",
       " ('灵敏度', 0.15911151902142856),\n",
       " ('二代', 0.15863210384214285)]"
      ]
     },
     "execution_count": 46,
     "metadata": {},
     "output_type": "execute_result"
    }
   ],
   "source": [
    "jieba.analyse.extract_tags(\"\"\"做工质感：二代的品控不好，但是我这个耳机完美，品控完美\n",
    "音效音质：没有杂音，音质很棒，使用感觉不错\n",
    "续航能力：续航不错，我可以听一天\n",
    "灵敏度：弹窗迅速，苹果不愧是你\n",
    "舒适度：舒服，我就喜欢这种半入耳式的\n",
    "其他特色：苹果手机配苹果耳机用起来就是舒服，完美搭配，舒服了，店铺的发货速度也很快，京东快递，安全放心\"\"\", topK=20, withWeight=True, allowPOS=())"
   ]
  },
  {
   "cell_type": "code",
   "execution_count": 3,
   "metadata": {},
   "outputs": [],
   "source": [
    "from pyhanlp import *\n",
    "import hanlp"
   ]
  },
  {
   "cell_type": "code",
   "execution_count": 7,
   "metadata": {},
   "outputs": [
    {
     "name": "stderr",
     "output_type": "stream",
     "text": [
      "20-12-06 08:22:37 WARNING Input tokens ['做', '工', '质', '感', '：', '二', '代', '的', '品', '控', '不', '好', '，', '但', '是', '我', '这', '个', '耳', '机', '完', '美', '，', '品', '控', '完', '美', '\\n', '音', '效', '音', '质', '：', '没', '有', '杂', '音', '，', '音', '质', '很', '棒', '，', '使', '用', '感', '觉', '不', '错', '\\n', '续', '航', '能', '力', '：', '续', '航', '不', '错', '，', '我', '可', '以', '听', '一', '天', '\\n', '灵', '敏', '度', '：', '弹', '窗', '迅', '速', '，', '苹', '果', '不', '愧', '是', '你', '\\n', '舒', '适', '度', '：', '舒', '服', '，', '我', '就', '喜', '欢', '这', '种', '半', '入', '耳', '式', '的', '\\n', '其', '他', '特', '色', '：', '苹', '果', '手', '机', '配', '苹', '果', '耳', '机', '用', '起', '来', '就', '是', '舒', '服', '，', '完', '美', '搭', '配', '，', '舒', '服', '了', '，', '店', '铺', '的', '发', '货', '速', '度', '也', '很', '快', '，', '京', '东', '快', '递', '，', '安', '全', '放', '心'] exceed the max sequence length of 126. The exceeded part will be truncated and ignored. You are recommended to split your long text into several sentences within 126 tokens beforehand.\n"
     ]
    },
    {
     "data": {
      "text/plain": [
       "[[('苹果', 'NT', 76, 78),\n",
       "  ('苹果', 'NT', 107, 109),\n",
       "  ('苹果', 'NT', 112, 114),\n",
       "  ('搭配，', 'NR', 126, 129),\n",
       "  ('了，店', 'NS', 131, 134),\n",
       "  ('发货速度也很快，京东快递，安全放心', 'NT', 136, 153)],\n",
       " [('萨哈夫说', 'NT', 0, 4)]]"
      ]
     },
     "execution_count": 7,
     "metadata": {},
     "output_type": "execute_result"
    }
   ],
   "source": [
    "recognizer = hanlp.load(hanlp.pretrained.ner.MSRA_NER_BERT_BASE_ZH)\n",
    "\n",
    "# [[('上海华安工业（集团）公司', 'NT', 0, 12), ('谭旭光', 'NR', 15, 18), ('张晚霞', 'NR', 21, 24), ('美国', 'NS', 26, 28), ('纽约现代艺术博物馆', 'NS', 28, 37)], \n",
    "#  [('萨哈夫', 'NR', 0, 3), ('伊拉克', 'NS', 5, 8), ('联合国销毁伊拉克大规模杀伤性武器特别委员会', 'NT', 10, 31)]]"
   ]
  },
  {
   "cell_type": "code",
   "execution_count": 8,
   "metadata": {},
   "outputs": [
    {
     "data": {
      "text/plain": [
       "[[('苹果', 'NT', 79, 81)],\n",
       " [('苹果', 'NT', 5, 7), ('苹果', 'NT', 10, 12), ('京东', 'NS', 42, 44)]]"
      ]
     },
     "execution_count": 8,
     "metadata": {},
     "output_type": "execute_result"
    }
   ],
   "source": [
    "recognizer([list(\"\"\"做工质感：二代的品控不好，但是我这个耳机完美，品控完美；\n",
    "音效音质：没有杂音，音质很棒，使用感觉不错；\n",
    "续航能力：续航不错，我可以听一天；\n",
    "灵敏度：弹窗迅速，苹果不愧是你；\n",
    "舒适度：舒服，我就喜欢这种半入耳式的；\n",
    "\"\"\"),\n",
    "list('其他特色：苹果手机配苹果耳机用起来就是舒服，完美搭配，舒服了，店铺的发货速度也很快，京东快递，安全放心')])   #注意：最大长度为126"
   ]
  },
  {
   "cell_type": "code",
   "execution_count": null,
   "metadata": {},
   "outputs": [],
   "source": []
  },
  {
   "cell_type": "code",
   "execution_count": null,
   "metadata": {},
   "outputs": [],
   "source": [
    "TermFrequency = JClass('com.hankcs.hanlp.corpus.occurrence.TermFrequency')\n",
    "TermFrequencyCounter = JClass('com.hankcs.hanlp.mining.word.TermFrequencyCounter')"
   ]
  },
  {
   "cell_type": "code",
   "execution_count": null,
   "metadata": {},
   "outputs": [],
   "source": [
    "counter = TermFrequencyCounter()\n",
    "counter.add(\"加油加油中国队！\")  # 第一个文档\n",
    "counter.add(\"中国观众高呼加油中国\")  # 第二个文档\n",
    "for termFrequency in counter:  # 遍历每个词与词频\n",
    "    print(\"%s=%d\" % (termFrequency.getTerm(), termFrequency.getFrequency()))\n",
    "print(counter.top(2))  # 取 top N\n",
    "\n",
    "    #  根据词频提取关键词\n",
    "print('')\n",
    "print(TermFrequencyCounter.getKeywordList(\"女排夺冠，观众欢呼女排女排女排！\", 3))"
   ]
  },
  {
   "cell_type": "code",
   "execution_count": null,
   "metadata": {},
   "outputs": [],
   "source": []
  },
  {
   "cell_type": "code",
   "execution_count": null,
   "metadata": {},
   "outputs": [],
   "source": []
  },
  {
   "cell_type": "code",
   "execution_count": null,
   "metadata": {},
   "outputs": [],
   "source": [
    "#1.找到相关的度量指标，2.度量指标的相似化，3.相关指标的评价保存与打分，"
   ]
  },
  {
   "cell_type": "code",
   "execution_count": null,
   "metadata": {},
   "outputs": [],
   "source": []
  },
  {
   "cell_type": "code",
   "execution_count": null,
   "metadata": {},
   "outputs": [],
   "source": []
  }
 ],
 "metadata": {
  "kernelspec": {
   "display_name": "Python 3",
   "language": "python",
   "name": "python3"
  },
  "language_info": {
   "codemirror_mode": {
    "name": "ipython",
    "version": 3
   },
   "file_extension": ".py",
   "mimetype": "text/x-python",
   "name": "python",
   "nbconvert_exporter": "python",
   "pygments_lexer": "ipython3",
   "version": "3.7.2"
  }
 },
 "nbformat": 4,
 "nbformat_minor": 4
}
